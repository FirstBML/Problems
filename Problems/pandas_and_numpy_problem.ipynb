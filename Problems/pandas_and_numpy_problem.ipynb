{
 "cells": [
  {
   "cell_type": "markdown",
   "id": "a1d73218",
   "metadata": {},
   "source": [
    "### Data Preparation\n",
    "####  Load the dataset from a CSV or generate 500–1000 random rows using numpy (e.g., random wallets, tokens, amounts)."
   ]
  },
  {
   "cell_type": "code",
   "execution_count": null,
   "id": "a0d111a2",
   "metadata": {},
   "outputs": [],
   "source": [
    "pd.describe(web_token)"
   ]
  }
 ],
 "metadata": {
  "kernelspec": {
   "display_name": "Python 3",
   "language": "python",
   "name": "python3"
  },
  "language_info": {
   "name": "python",
   "version": "3.13.1"
  }
 },
 "nbformat": 4,
 "nbformat_minor": 5
}
