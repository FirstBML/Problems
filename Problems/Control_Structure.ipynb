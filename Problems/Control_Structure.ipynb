{
 "cells": [
  {
   "cell_type": "markdown",
   "id": "6a885289",
   "metadata": {},
   "source": [
    "### LOOPS (Iteration-based problems)\n"
   ]
  },
  {
   "cell_type": "markdown",
   "id": "288e21b7",
   "metadata": {},
   "source": [
    "### 1. Daily Gas Fee Average\n"
   ]
  },
  {
   "cell_type": "code",
   "execution_count": 7,
   "id": "7107697b",
   "metadata": {},
   "outputs": [
    {
     "name": "stdout",
     "output_type": "stream",
     "text": [
      "40.0\n"
     ]
    }
   ],
   "source": [
    "# Description: Calculate the average gas fee from a list of daily Ethereum gas fees.\n",
    "# Input: List of gas fees (e.g., [30, 40, 35, 50, 45])\n",
    "\n",
    "gas_fee = [30, 40, 35, 50, 45]\n",
    "n = len(gas_fee)\n",
    "total_fee = sum(gas_fee)\n",
    "Average_gas_fee = total_fee/n\n",
    "print(Average_gas_fee)\n",
    "\n"
   ]
  },
  {
   "cell_type": "markdown",
   "id": "8676426d",
   "metadata": {},
   "source": [
    "### 2. Highest Daily Transaction Count\n",
    " "
   ]
  },
  {
   "cell_type": "code",
   "execution_count": null,
   "id": "5a7865ea",
   "metadata": {},
   "outputs": [
    {
     "name": "stdout",
     "output_type": "stream",
     "text": [
      " Day 4  has the highest number of trasanctions\n"
     ]
    }
   ],
   "source": [
    "# Description: Find the day with the highest number of transactions on a blockchain.\n",
    "# Input: List of daily transaction counts (e.g., [1200, 1400, 1350, 1600, 1100])\n",
    "\n",
    "Txs_per_day = [1200, 1400, 1350, 1600, 1100]\n",
    "max_tx = max(Txs_per_day)\n",
    "day_index = Txs_per_day.index(max_tx)\n",
    "print(f' Day {day_index + 1}  has the highest number of trasanctions')"
   ]
  },
  {
   "cell_type": "markdown",
   "id": "2ed4c449",
   "metadata": {},
   "source": [
    "### 3. Find Token Min/Max Price\n"
   ]
  },
  {
   "cell_type": "code",
   "execution_count": 22,
   "id": "eb9743f0",
   "metadata": {},
   "outputs": [
    {
     "name": "stdout",
     "output_type": "stream",
     "text": [
      " Over the week, maximum price is $2.8, while minumum price is $2.0\n"
     ]
    }
   ],
   "source": [
    "# Determine the lowest and highest price of a token over a week.\n",
    "# Input: List of prices (e.g., [2.1, 2.5, 2.0, 2.8, 2.6])\n",
    "\n",
    "token_price = [2.1, 2.5, 2.0, 2.8, 2.6]\n",
    "max_price = max(token_price)\n",
    "min_price = min(token_price)\n",
    "print(f' Over the week, maximum price is ${max_price}, while minumum price is ${min_price}')\n",
    "\n",
    "\n"
   ]
  },
  {
   "cell_type": "markdown",
   "id": "6d0f8f8b",
   "metadata": {},
   "source": [
    "### 4. Simple Moving Average for Token Price\n",
    " "
   ]
  },
  {
   "cell_type": "code",
   "execution_count": 94,
   "id": "bd2939b8",
   "metadata": {},
   "outputs": [
    {
     "name": "stdout",
     "output_type": "stream",
     "text": [
      "[1.17, 1.3, 1.43]\n",
      "\n",
      "Alternative Print Format\n",
      "1.17, 1.30, 1.43\n"
     ]
    }
   ],
   "source": [
    "# Compute the simple moving average of a token’s price for a given window.\n",
    "#Input: Prices (e.g., [1.0, 1.2, 1.3, 1.4, 1.6]), Window size (e.g., 3)\n",
    "\n",
    "def simple_moving_avg(prices, window):\n",
    "    sma = []\n",
    "    for i in range(len(prices)):\n",
    "        if i + 1 >= window:\n",
    "            window_avg = round(sum(prices[i+1 - window:i+1])/window,2)\n",
    "            sma.append(window_avg)\n",
    "        \n",
    "    return sma\n",
    "    \n",
    "prices = [1.0, 1.2, 1.3, 1.4, 1.6]\n",
    "window_size = 3\n",
    "sma = simple_moving_avg(prices, window_size)\n",
    "print(sma)        \n",
    "\n",
    "# Altertive print syntax\n",
    "\n",
    "format = [f'{val:,.2f}' for val in sma]\n",
    "print('\\nAlternative Print Format')\n",
    "print(', '.join(format))\n"
   ]
  },
  {
   "cell_type": "markdown",
   "id": "7afc7f12",
   "metadata": {},
   "source": [
    "### 5. Count Profitable Days on DEX"
   ]
  },
  {
   "cell_type": "code",
   "execution_count": null,
   "id": "4bd3ff2d",
   "metadata": {},
   "outputs": [
    {
     "name": "stdout",
     "output_type": "stream",
     "text": [
      "Daily positive profit count:3days\n"
     ]
    }
   ],
   "source": [
    "# Description: Count the number of days a trader had a positive return on a DEX.\n",
    "# Input: List of daily PnL (e.g., [0.03, -0.02, 0.01, 0.04, -0.01])\n",
    "\n",
    "def daily_positive_pnl_count(pnl_list):\n",
    "    return sum(1 for pnl in pnl_list if pnl > 0)\n",
    "\n",
    "daily_PnL = [0.03, -0.02, 0.01, 0.04, -0.01]\n",
    "daily_profit = daily_positive_pnl_count(daily_PnL)\n",
    "print(f'Daily positive profit count:{daily_profit}days')"
   ]
  },
  {
   "cell_type": "code",
   "execution_count": 118,
   "id": "89283587",
   "metadata": {},
   "outputs": [
    {
     "name": "stdout",
     "output_type": "stream",
     "text": [
      "Daily positive profit count:3days\n"
     ]
    }
   ],
   "source": [
    "# Alternative Aproach\n",
    "daily_PnL = [0.03, -0.02, 0.01, 0.04, -0.01]\n",
    "DailyProfit = sum(1 for pnl in daily_PnL if pnl > 0)\n",
    "print(f'Daily positive profit count:{DailyProfit}days')"
   ]
  },
  {
   "cell_type": "markdown",
   "id": "00dd7515",
   "metadata": {},
   "source": [
    "### 6. Average Number of Tokens Held\n",
    " "
   ]
  },
  {
   "cell_type": "code",
   "execution_count": null,
   "id": "a6517cca",
   "metadata": {},
   "outputs": [
    {
     "name": "stdout",
     "output_type": "stream",
     "text": [
      "Average token held per wallet: $187.5\n"
     ]
    }
   ],
   "source": [
    "# Calculate the average number of tokens held across wallets.\n",
    "# Input: List of token holdings per wallet (e.g., [100, 200, 150, 300])\n",
    " \n",
    "def average_token_per_wallet(token_list):\n",
    "    return sum(token_list)/len(token_list)\n",
    "    \n",
    "list_of_token = [100, 200, 150, 300]\n",
    "Average_tokens_held = average_token_per_wallet(list_of_token)\n",
    "print(f'Average token held per wallet: ${Average_tokens_held}')"
   ]
  },
  {
   "cell_type": "code",
   "execution_count": 115,
   "id": "b3c1d729",
   "metadata": {},
   "outputs": [
    {
     "name": "stdout",
     "output_type": "stream",
     "text": [
      "Average token held per wallet: $187.5\n"
     ]
    }
   ],
   "source": [
    "# Alternative Aproach\n",
    "\n",
    "list_of_token = [100, 200, 150, 300]\n",
    "avtoken = sum(list_of_token)/len(list_of_token)\n",
    "print(f'Average token held per wallet: ${avtoken}')"
   ]
  },
  {
   "cell_type": "markdown",
   "id": "f53abe00",
   "metadata": {},
   "source": [
    "### 7. Wallets Above Holding Threshold\n",
    " "
   ]
  },
  {
   "cell_type": "code",
   "execution_count": 126,
   "id": "064eec59",
   "metadata": {},
   "outputs": [
    {
     "name": "stdout",
     "output_type": "stream",
     "text": [
      "Number of wallets holdings more than 100 token is 3 wallets\n"
     ]
    }
   ],
   "source": [
    "# Count the number of wallets holding more than 100 tokens.\n",
    "# Input: List of holdings (e.g., [50, 150, 120, 80, 200]).\n",
    "\n",
    "List_of_holdings = [50, 150, 120, 80, 200]\n",
    "Above_treashold = sum(1 for holdings in List_of_holdings if holdings > 100)\n",
    "print(f'Number of wallets holdings more than 100 token is {Above_treashold} wallets')"
   ]
  },
  {
   "cell_type": "code",
   "execution_count": null,
   "id": "7f067867",
   "metadata": {},
   "outputs": [
    {
     "name": "stdout",
     "output_type": "stream",
     "text": [
      "3 wallets is holdings more than 100 tokens\n"
     ]
    }
   ],
   "source": [
    "# Alternatively\n",
    "def No_of_wallet_holdings(token_list):\n",
    "    return sum(1 for holdings in List_of_holdings if holdings > 100)\n",
    "    \n",
    "List_of_holdings = [50, 150, 120, 80, 200]\n",
    "Above_treashold = No_of_wallet_holdings(List_of_holdings)\n",
    "print(f'{Above_treashold} wallets is holdings more than 100 tokens')"
   ]
  }
 ],
 "metadata": {
  "kernelspec": {
   "display_name": "PythonProb",
   "language": "python",
   "name": "python3"
  },
  "language_info": {
   "codemirror_mode": {
    "name": "ipython",
    "version": 3
   },
   "file_extension": ".py",
   "mimetype": "text/x-python",
   "name": "python",
   "nbconvert_exporter": "python",
   "pygments_lexer": "ipython3",
   "version": "3.13.5"
  }
 },
 "nbformat": 4,
 "nbformat_minor": 5
}
