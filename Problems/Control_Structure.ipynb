{
 "cells": [
  {
   "cell_type": "markdown",
   "id": "6a885289",
   "metadata": {},
   "source": [
    "### LOOPS (Iteration-based problems)\n"
   ]
  },
  {
   "cell_type": "markdown",
   "id": "288e21b7",
   "metadata": {},
   "source": [
    "### 1. Daily Gas Fee Average\n"
   ]
  },
  {
   "cell_type": "code",
   "execution_count": null,
   "id": "7107697b",
   "metadata": {},
   "outputs": [
    {
     "name": "stdout",
     "output_type": "stream",
     "text": [
      "40.0\n"
     ]
    }
   ],
   "source": [
    "# Description: Calculate the average gas fee from a list of daily Ethereum gas fees.\n",
    "# Input: List of gas fees (e.g., [30, 40, 35, 50, 45])\n",
    "\n",
    "gas_fee = [30, 40, 35, 50, 45]\n",
    "n = len(gas_fee)\n",
    "total_fee = sum(gas_fee)\n",
    "Average_gas_fee = total_fee/n\n",
    "print(Average_gas_fee)"
   ]
  },
  {
   "cell_type": "markdown",
   "id": "8676426d",
   "metadata": {},
   "source": [
    "### 2. Highest Daily Transaction Count\n",
    " "
   ]
  },
  {
   "cell_type": "code",
   "execution_count": null,
   "id": "5a7865ea",
   "metadata": {},
   "outputs": [
    {
     "name": "stdout",
     "output_type": "stream",
     "text": [
      " Day 4  has the highest number of trasanctions\n"
     ]
    }
   ],
   "source": [
    "# Description: Find the day with the highest number of transactions on a blockchain.\n",
    "# Input: List of daily transaction counts (e.g., [1200, 1400, 1350, 1600, 1100])\n",
    "\n",
    "Txs_per_day = [1200, 1400, 1350, 1600, 1100]\n",
    "max_tx = max(Txs_per_day)\n",
    "day_index = Txs_per_day.index(max_tx)\n",
    "print(f' Day {day_index + 1}  has the highest number of trasanctions')"
   ]
  },
  {
   "cell_type": "markdown",
   "id": "2ed4c449",
   "metadata": {},
   "source": [
    "### 3. Find Token Min/Max Price\n"
   ]
  },
  {
   "cell_type": "code",
   "execution_count": null,
   "id": "eb9743f0",
   "metadata": {},
   "outputs": [
    {
     "name": "stdout",
     "output_type": "stream",
     "text": [
      " Over the week, maximum price is $2.8, while minumum price is $2.0\n"
     ]
    }
   ],
   "source": [
    "# Determine the lowest and highest price of a token over a week.\n",
    "# Input: List of prices (e.g., [2.1, 2.5, 2.0, 2.8, 2.6])\n",
    "\n",
    "token_price = [2.1, 2.5, 2.0, 2.8, 2.6]\n",
    "max_price = max(token_price)\n",
    "min_price = min(token_price)\n",
    "print(f' Over the week, maximum price is ${max_price}, while minumum price is ${min_price}')"
   ]
  },
  {
   "cell_type": "markdown",
   "id": "6d0f8f8b",
   "metadata": {},
   "source": [
    "### 4. Simple Moving Average for Token Price\n",
    " "
   ]
  },
  {
   "cell_type": "code",
   "execution_count": null,
   "id": "bd2939b8",
   "metadata": {},
   "outputs": [
    {
     "name": "stdout",
     "output_type": "stream",
     "text": [
      "[1.17, 1.3, 1.43]\n",
      "\n",
      "Alternative Print Format\n",
      "1.17, 1.30, 1.43\n"
     ]
    }
   ],
   "source": [
    "# Compute the simple moving average of a token’s price for a given window.\n",
    "#Input: Prices (e.g., [1.0, 1.2, 1.3, 1.4, 1.6]), Window size (e.g., 3)\n",
    "\n",
    "def simple_moving_avg(prices, window):\n",
    "    sma = []\n",
    "    for i in range(len(prices)):\n",
    "        if i + 1 >= window:\n",
    "            window_avg = round(sum(prices[i+1 - window:i+1])/window,2)\n",
    "            sma.append(window_avg)\n",
    "        \n",
    "    return sma\n",
    "    \n",
    "prices = [1.0, 1.2, 1.3, 1.4, 1.6]\n",
    "window_size = 3\n",
    "sma = simple_moving_avg(prices, window_size)\n",
    "print(sma)        \n",
    "\n",
    "# Altertive print syntax\n",
    "\n",
    "format = [f'{val:,.2f}' for val in sma]\n",
    "print('\\nAlternative Print Format')\n",
    "print(', '.join(format))"
   ]
  },
  {
   "cell_type": "markdown",
   "id": "7afc7f12",
   "metadata": {},
   "source": [
    "### 5. Count Profitable Days on DEX"
   ]
  },
  {
   "cell_type": "code",
   "execution_count": null,
   "id": "4bd3ff2d",
   "metadata": {},
   "outputs": [
    {
     "name": "stdout",
     "output_type": "stream",
     "text": [
      "Daily positive profit count:3days\n"
     ]
    }
   ],
   "source": [
    "# Description: Count the number of days a trader had a positive return on a DEX.\n",
    "# Input: List of daily PnL (e.g., [0.03, -0.02, 0.01, 0.04, -0.01])\n",
    "\n",
    "def daily_positive_pnl_count(pnl_list):\n",
    "    return sum(1 for pnl in pnl_list if pnl > 0)\n",
    "\n",
    "daily_PnL = [0.03, -0.02, 0.01, 0.04, -0.01]\n",
    "daily_profit = daily_positive_pnl_count(daily_PnL)\n",
    "print(f'Daily positive profit count:{daily_profit}days')"
   ]
  },
  {
   "cell_type": "code",
   "execution_count": 118,
   "id": "89283587",
   "metadata": {},
   "outputs": [
    {
     "name": "stdout",
     "output_type": "stream",
     "text": [
      "Daily positive profit count:3days\n"
     ]
    }
   ],
   "source": [
    "# Alternative Aproach\n",
    "daily_PnL = [0.03, -0.02, 0.01, 0.04, -0.01]\n",
    "DailyProfit = sum(1 for pnl in daily_PnL if pnl > 0)\n",
    "print(f'Daily positive profit count:{DailyProfit}days')"
   ]
  },
  {
   "cell_type": "markdown",
   "id": "00dd7515",
   "metadata": {},
   "source": [
    "### 6. Average Number of Tokens Held\n",
    " "
   ]
  },
  {
   "cell_type": "code",
   "execution_count": null,
   "id": "a6517cca",
   "metadata": {},
   "outputs": [
    {
     "name": "stdout",
     "output_type": "stream",
     "text": [
      "Average token held per wallet: $187.5\n"
     ]
    }
   ],
   "source": [
    "# Calculate the average number of tokens held across wallets.\n",
    "# Input: List of token holdings per wallet (e.g., [100, 200, 150, 300])\n",
    " \n",
    "def average_token_per_wallet(token_list):\n",
    "    return sum(token_list)/len(token_list)\n",
    "    \n",
    "list_of_token = [100, 200, 150, 300]\n",
    "Average_tokens_held = average_token_per_wallet(list_of_token)\n",
    "print(f'Average token held per wallet: ${Average_tokens_held}')"
   ]
  },
  {
   "cell_type": "code",
   "execution_count": 115,
   "id": "b3c1d729",
   "metadata": {},
   "outputs": [
    {
     "name": "stdout",
     "output_type": "stream",
     "text": [
      "Average token held per wallet: $187.5\n"
     ]
    }
   ],
   "source": [
    "# Alternative Aproach\n",
    "\n",
    "list_of_token = [100, 200, 150, 300]\n",
    "avtoken = sum(list_of_token)/len(list_of_token)\n",
    "print(f'Average token held per wallet: ${avtoken}')"
   ]
  },
  {
   "cell_type": "markdown",
   "id": "f53abe00",
   "metadata": {},
   "source": [
    "### 7. Wallets Above Holding Threshold\n",
    " "
   ]
  },
  {
   "cell_type": "code",
   "execution_count": 126,
   "id": "064eec59",
   "metadata": {},
   "outputs": [
    {
     "name": "stdout",
     "output_type": "stream",
     "text": [
      "Number of wallets holdings more than 100 token is 3 wallets\n"
     ]
    }
   ],
   "source": [
    "# Count the number of wallets holding more than 100 tokens.\n",
    "# Input: List of holdings (e.g., [50, 150, 120, 80, 200]).\n",
    "\n",
    "List_of_holdings = [50, 150, 120, 80, 200]\n",
    "Above_treashold = sum(1 for holdings in List_of_holdings if holdings > 100)\n",
    "print(f'Number of wallets holdings more than 100 token is {Above_treashold} wallets')"
   ]
  },
  {
   "cell_type": "code",
   "execution_count": null,
   "id": "7f067867",
   "metadata": {},
   "outputs": [
    {
     "name": "stdout",
     "output_type": "stream",
     "text": [
      "3 wallets is holdings more than 100 tokens\n"
     ]
    }
   ],
   "source": [
    "# Alternatively\n",
    "def No_of_wallet_holdings(token_list):\n",
    "    return sum(1 for holdings in List_of_holdings if holdings > 100)\n",
    "    \n",
    "List_of_holdings = [50, 150, 120, 80, 200]\n",
    "Above_treashold = No_of_wallet_holdings(List_of_holdings)\n",
    "print(f'{Above_treashold} wallets is holdings more than 100 tokens')"
   ]
  },
  {
   "cell_type": "markdown",
   "id": "91a950cf",
   "metadata": {},
   "source": [
    "### 8. Total Gas Spent by Wallet"
   ]
  },
  {
   "cell_type": "code",
   "execution_count": 3,
   "id": "f7cc01a8",
   "metadata": {},
   "outputs": [
    {
     "name": "stdout",
     "output_type": "stream",
     "text": [
      "Total Gas used across transactions:$103,000.00\n"
     ]
    }
   ],
   "source": [
    "# Calculate total gas used by multiple wallets across transactions.\n",
    "# Input: List of gas used per wallet (e.g., [21000, 50000, 32000])\n",
    "\n",
    "def total_gas_per_wallet(gas_list):\n",
    "    return sum( gas for gas in gas_list )\n",
    "\n",
    "Gas_list = [21000, 50000, 32000]\n",
    "Total_Gas = total_gas_per_wallet(Gas_list)\n",
    "\n",
    "print(f'Total Gas used across transactions:${Total_Gas:,.2f}')"
   ]
  },
  {
   "cell_type": "markdown",
   "id": "8fbd1916",
   "metadata": {},
   "source": [
    "### 9. Cumulative Token Airdrop\n",
    " "
   ]
  },
  {
   "cell_type": "code",
   "execution_count": null,
   "id": "7a24bbca",
   "metadata": {},
   "outputs": [
    {
     "name": "stdout",
     "output_type": "stream",
     "text": [
      "250 in airdrop amount\n"
     ]
    }
   ],
   "source": [
    "# Description: Calculate the total tokens distributed in an airdrop across multiple addresses.\n",
    "# Input: List of airdrop amounts (e.g., [50, 75, 100, 25])\n",
    "\n",
    "airdrop_list =  [50, 75, 100, 25]\n",
    "total_ardrop = sum(airdrop_list)\n",
    "print(f'{total_ardrop} in airdrop amount')"
   ]
  },
  {
   "cell_type": "markdown",
   "id": "0d6729b7",
   "metadata": {},
   "source": [
    "### 10. Average Bridge Fee Across Chains\n"
   ]
  },
  {
   "cell_type": "code",
   "execution_count": null,
   "id": "fdfda8ff",
   "metadata": {},
   "outputs": [
    {
     "name": "stdout",
     "output_type": "stream",
     "text": [
      "1.125\n"
     ]
    }
   ],
   "source": [
    "# Find the average fee users pay when bridging tokens across chains.\n",
    "# List of fees (e.g., [1.2, 0.8, 1.0, 1.5])\n",
    " #Output: Average fee (e.g., 1.125)\n",
    "\n",
    "List_of_fees = [1.2, 0.8, 1.0, 1.5]\n",
    "average_fee = sum(List_of_fees)/ len(List_of_fees)\n",
    "print(average_fee)\n"
   ]
  },
  {
   "cell_type": "markdown",
   "id": "7c5cb725",
   "metadata": {},
   "source": [
    "### CONDITIONAL STATEMENTS (Decision-making problems)\n"
   ]
  },
  {
   "cell_type": "markdown",
   "id": "c2eea186",
   "metadata": {},
   "source": [
    "### 1. Token Price Classification"
   ]
  },
  {
   "cell_type": "code",
   "execution_count": 42,
   "id": "8b537153",
   "metadata": {},
   "outputs": [
    {
     "name": "stdout",
     "output_type": "stream",
     "text": [
      "Previous price:$2.0 less than current price:$2.3. Price movement is Bullish\n"
     ]
    }
   ],
   "source": [
    "# Classify a token’s price movement as “Bullish” if it increased, “Bearish” if decreased.\n",
    "# Input: Previous price (e.g., 2.0), Current price (e.g., 2.3)\n",
    "\n",
    "Previous_price = 2.0\n",
    "Current_price = 2.3\n",
    "\n",
    "if Previous_price < Current_price:\n",
    "    print(f'Previous price:${Previous_price} less than current price:${Current_price}. Price movement is Bullish')\n",
    "\n",
    "elif Previous_price > Current_price:\n",
    "    print(f'Previous price:${Previous_price} great than current price:${Current_price} Price movement is Bearish')\n",
    "    \n",
    "else:\n",
    "    print('No Price Movement')"
   ]
  },
  {
   "cell_type": "markdown",
   "id": "d27bc428",
   "metadata": {},
   "source": [
    "### 2. Gas Fee Alert System\n"
   ]
  },
  {
   "cell_type": "code",
   "execution_count": 162,
   "id": "ee923806",
   "metadata": {},
   "outputs": [
    {
     "name": "stdout",
     "output_type": "stream",
     "text": [
      "Ethereum gas fee exceeds 120 Gwei\n"
     ]
    }
   ],
   "source": [
    "# Alert if Ethereum gas fee exceeds a given threshold (e.g., 100 Gwei).\n",
    "# Input: Gas fee (e.g., 120)\n",
    "\n",
    "def ETH_gas_threshold(Gwaei):\n",
    "    if Gwei_fee > 100:\n",
    "        print(f'Ethereum gas fee exceeds {Gwei_fee} Gwei')\n",
    "\n",
    "    elif Gwei_fee <100:\n",
    "            print(f'Ethereum gas fee is less than {Gwei_fee} Gwei')\n",
    "\n",
    "    else:\n",
    "         print(f'Ethereum gas fee is {Gwei_fee} Gwei')\n",
    "\n",
    "Gwei_fee = 120\n",
    "ETH_gas_threshold(Gwei_fee)"
   ]
  },
  {
   "cell_type": "markdown",
   "id": "770112cb",
   "metadata": {},
   "source": [
    "### 3. Detect Whale Wallet\n"
   ]
  },
  {
   "cell_type": "code",
   "execution_count": null,
   "id": "0f31c91e",
   "metadata": {},
   "outputs": [
    {
     "name": "stdout",
     "output_type": "stream",
     "text": [
      "A whale wallet\n"
     ]
    }
   ],
   "source": [
    "\n",
    " # Description: Identify if a wallet is a whale based on token balance (>10,000 tokens).\n",
    " # Input: Token balance (e.g., 15,000)\n",
    "\n",
    "def A_whale(Wallet):\n",
    "    if wallet > 10000:\n",
    "        print('A whale wallet')\n",
    "    else: \n",
    "        print('Not a Whale wallet')\n",
    "wallet = 12000\n",
    "Awhale = A_whale(Wallet=wallet)"
   ]
  },
  {
   "cell_type": "markdown",
   "id": "fa7f8a8e",
   "metadata": {},
   "source": [
    "### 4. Token Transfer Flag"
   ]
  },
  {
   "cell_type": "code",
   "execution_count": null,
   "id": "544a87da",
   "metadata": {},
   "outputs": [
    {
     "name": "stdout",
     "output_type": "stream",
     "text": [
      " transaction 0x1122222 is suspicious: Amont:$1,200,000.00\n",
      " transaction 0x1123222 is suspicious: Amont:$1,002,100.00\n"
     ]
    }
   ],
   "source": [
    "\n",
    "# Flag a transaction as “Suspicious” if the amount is above 1 million tokens.\n",
    "# Input: Transfer amount (e.g., 1,200,000)\n",
    "\n",
    "transInfo = [\n",
    "    {'tx': '0x1122222', 'amount': 1200000, 'wallet': '0xacb123'},\n",
    "    {'tx': '0x1123222', 'amount': 1002100,  'wallet': '0xacbae13'},\n",
    "    {'tx': '0x1122232', 'amount': 110000,  'wallet': '0xac22123'},\n",
    "    {'tx': '0x1129999', 'amount': 950000,  'wallet': '0x1234567'}\n",
    "]\n",
    "\n",
    "for trans in transInfo:\n",
    "    if trans['amount'] > 1000000:\n",
    "        print(f' transaction {trans['tx']} is suspicious: Amont:${trans['amount']:,.2f}')"
   ]
  },
  {
   "cell_type": "code",
   "execution_count": 76,
   "id": "ff19b0f5",
   "metadata": {},
   "outputs": [
    {
     "name": "stdout",
     "output_type": "stream",
     "text": [
      "Suspicious Transaction\n",
      "\n",
      "0x1122222 from 0xacb123 sent (1,200,000.00) tokens\n",
      "0x1123222 from 0xacbae13 sent (1,002,100.00) tokens\n",
      "0x1129999 from 0x1234567 sent (9,500,000.00) tokens\n"
     ]
    }
   ],
   "source": [
    "# Alternatively\n",
    "TransInfo = [\n",
    "    {'tx': '0x1122222', 'amount': 1200000, 'wallet': '0xacb123'},\n",
    "    {'tx': '0x1123222', 'amount': 1002100,  'wallet': '0xacbae13'},\n",
    "    {'tx': '0x1122232', 'amount': 110000,  'wallet': '0xac22123'},\n",
    "    {'tx': '0x1129999', 'amount': 9500000,  'wallet': '0x1234567'}\n",
    "]\n",
    "\n",
    "suspicious_trans = []\n",
    "\n",
    "for Trans in TransInfo:\n",
    "    if Trans['amount'] > 1000000:\n",
    "        suspicious_trans.append(Trans)\n",
    "print('Suspicious Transaction\\n') \n",
    "\n",
    "for Trans in suspicious_trans:\n",
    "    print(f'{Trans['tx']} from {Trans['wallet']} sent ({Trans['amount']:,.2f}) tokens')"
   ]
  },
  {
   "cell_type": "markdown",
   "id": "bc061ed6",
   "metadata": {},
   "source": [
    "### 5. DEX Slippage Warning\n",
    " "
   ]
  },
  {
   "cell_type": "code",
   "execution_count": 94,
   "id": "2acf88ba",
   "metadata": {},
   "outputs": [
    {
     "name": "stdout",
     "output_type": "stream",
     "text": [
      "High slippage detected!\n",
      "\n",
      "Find high slippage values below:\n",
      "7%\n",
      "6.5%\n"
     ]
    }
   ],
   "source": [
    "# Description: Warn users if the slippage is greater than 5%.\n",
    "# Input: Slippage percentage (e.g., 6.5)\n",
    "\n",
    "Slippage_list = [ 5, 7, 3, 6.5, 4.2]\n",
    "sliaggeList = []\n",
    "\n",
    "for slippage in Slippage_list:\n",
    "    if slippage > 5:\n",
    "        sliaggeList.append(slippage)\n",
    "print('High slippage detected!')\n",
    "\n",
    "print('\\nFind high slippage values below:')\n",
    "for slippage in sliaggeList:\n",
    "    print(f'{slippage}%')\n"
   ]
  },
  {
   "cell_type": "markdown",
   "id": "69bcfffb",
   "metadata": {},
   "source": [
    "### 6. NFT Mint Status Check\n",
    " "
   ]
  },
  {
   "cell_type": "code",
   "execution_count": null,
   "id": "b1a9bbfc",
   "metadata": {},
   "outputs": [
    {
     "name": "stdout",
     "output_type": "stream",
     "text": [
      "!!! NTF Over minted. Total Minted: 900,000.00 units out of 10,000.00 units\n"
     ]
    }
   ],
   "source": [
    "# Check if an NFT is sold out or available for mint.\n",
    "# Input: Total supply (e.g., 10,000), Minted count (e.g., 10,000)\n",
    "\n",
    "def NFT_Market(Supply, Minted_count):\n",
    "    if Minted_count == Supply:\n",
    "        print('NFT Sold Out')\n",
    "\n",
    "    elif Minted_count > Total_Supply:\n",
    "        print(f'!!! NTF Over minted. Total Minted: {Minted_count:,.2f} units out of {Total_Supply:,.2f} units')\n",
    "\n",
    "    else:\n",
    "        Available_NFT = Supply - Minted_count\n",
    "        print(f'NFT still available for Mint. Currently Available: {Available_NFT:,.2f} units')\n",
    "Minted_count = 900000\n",
    "Total_Supply  = 10000\n",
    "NFT_Market(Total_Supply, Minted_count)"
   ]
  },
  {
   "cell_type": "markdown",
   "id": "fde21c96",
   "metadata": {},
   "source": [
    "### 7. Stablecoin Health Check"
   ]
  },
  {
   "cell_type": "code",
   "execution_count": 149,
   "id": "56bd13c3",
   "metadata": {},
   "outputs": [
    {
     "name": "stdout",
     "output_type": "stream",
     "text": [
      "Stablecoin deppegged at $0.93\n"
     ]
    }
   ],
   "source": [
    "# Description: Determine if a stablecoin is depegged (if price deviates from $1 by more than ±5%).\n",
    "# Input: Stablecoin price (e.g., 0.93)\n",
    "pegged = 1\n",
    "Stablecoin = 0.93\n",
    "tolerance = (5/100) * pegged\n",
    "\n",
    "lower_bound = pegged - tolerance\n",
    "higher_bound = pegged  + tolerance\n",
    "\n",
    "if Stablecoin < lower_bound or Stablecoin > higher_bound:\n",
    "# if Stablecoin < (pegged - (Stablecoin * 5) /100) or Stablecoin > (pegged + (Stablecoin * 5) /100):\n",
    "    print(f'Stablecoin deppegged at ${Stablecoin}')\n",
    "else:\n",
    "    print(f'Stablecoin still instact. Price: ${Stablecoin}')"
   ]
  },
  {
   "cell_type": "markdown",
   "id": "ce3f8ff7",
   "metadata": {},
   "source": [
    "### 8. Reward Eligibility\n",
    " "
   ]
  },
  {
   "cell_type": "code",
   "execution_count": 155,
   "id": "1eda89d1",
   "metadata": {},
   "outputs": [
    {
     "name": "stdout",
     "output_type": "stream",
     "text": [
      "Staked 300 tokens: Not qualify for a reward\n"
     ]
    }
   ],
   "source": [
    "# Check if a user qualifies for staking rewards (must stake ≥ 500 tokens).\n",
    "# Input: Tokens staked (e.g., 300)\n",
    "\n",
    "staked_token = 300\n",
    "if staked_token >= 500:\n",
    "    print(f'staked {staked_token} tokens. Qualify for a reward')    \n",
    "\n",
    "else:\n",
    "    print(f'Staked {staked_token} tokens: Not qualify for a reward')"
   ]
  },
  {
   "cell_type": "markdown",
   "id": "75bff4bc",
   "metadata": {},
   "source": [
    "### 9. Airdrop Eligibility\n",
    " "
   ]
  },
  {
   "cell_type": "code",
   "execution_count": 160,
   "id": "73396c12",
   "metadata": {},
   "outputs": [
    {
     "name": "stdout",
     "output_type": "stream",
     "text": [
      "Eligible for Airdops\n"
     ]
    }
   ],
   "source": [
    "# Check if a wallet is eligible for airdrop (must hold a specific token and have at least 5 transactions).\n",
    "# Input: Holdings (e.g., 100), Number of transactions (e.g., 6)\n",
    "\n",
    "def walletInfo( token, trans):\n",
    "    if token >= 100 and trans >= 6:\n",
    "        print('Eligible for Airdops')\n",
    "    \n",
    "    else:\n",
    "        print('Not eligible for airdrop')\n",
    "TokensHold = 100\n",
    "TransacNo= 6\n",
    "walletInfo(TokensHold, TransacNo)"
   ]
  },
  {
   "cell_type": "markdown",
   "id": "7ec7c67c",
   "metadata": {},
   "source": [
    "### 10. Transaction Fee Efficiency\n",
    " "
   ]
  },
  {
   "cell_type": "code",
   "execution_count": 174,
   "id": "1ec84e1c",
   "metadata": {},
   "outputs": [
    {
     "name": "stdout",
     "output_type": "stream",
     "text": [
      "transaction fee is great than 5% of 50\n"
     ]
    }
   ],
   "source": [
    "# Flag if a transaction fee is greater than 5% of transaction amount.\n",
    "# Fee (e.g., 3), Transaction amount (e.g., 50)\n",
    "\n",
    "def transactionAmount(Amount, fee):\n",
    "        if fee > (5/100 * Amount):\n",
    "                print( f'transaction fee is great than 5% of {Amount}')\n",
    "        \n",
    "        else:\n",
    "                print('Efficient Transaction')\n",
    "\n",
    "Tx_Amount = 50\n",
    "Tx_fee = 3\n",
    "transactionAmount(Tx_Amount, Tx_fee)"
   ]
  }
 ],
 "metadata": {
  "kernelspec": {
   "display_name": "PythonProb",
   "language": "python",
   "name": "python3"
  },
  "language_info": {
   "codemirror_mode": {
    "name": "ipython",
    "version": 3
   },
   "file_extension": ".py",
   "mimetype": "text/x-python",
   "name": "python",
   "nbconvert_exporter": "python",
   "pygments_lexer": "ipython3",
   "version": "3.13.5"
  }
 },
 "nbformat": 4,
 "nbformat_minor": 5
}
