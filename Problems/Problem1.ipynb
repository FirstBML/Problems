{
 "cells": [
  {
   "cell_type": "code",
   "execution_count": 1,
   "id": "212fffaf",
   "metadata": {},
   "outputs": [
    {
     "name": "stdout",
     "output_type": "stream",
     "text": [
      "Hello\n"
     ]
    }
   ],
   "source": [
    "print('Hello')\n"
   ]
  },
  {
   "cell_type": "markdown",
   "id": "89441a7f",
   "metadata": {},
   "source": [
    "#### Cryptocurrency Token Data\n",
    "##### This data structure represents information about different cryptocurrency tokens listed on a decentralized exchange (DEX).\n"
   ]
  },
  {
   "cell_type": "code",
   "execution_count": 2,
   "id": "7f52e422",
   "metadata": {},
   "outputs": [
    {
     "name": "stdout",
     "output_type": "stream",
     "text": [
      "[{'name': 'Token A', 'symbol': 'TKA', 'blockchain': 'Ethereum', 'current_price_usd': 100.0, 'transaction_history': [{'date': '2024-01-10', 'prices': {'open': 98.0, 'close': 100.0, 'high': 101.0, 'low': 97.0}, 'volume': 12000}, {'date': '2024-01-09', 'prices': {'open': 97.0, 'close': 98.0, 'high': 99.0, 'low': 96.0}, 'volume': 15000}], 'supported_chains': ['Ethereum', 'Polygon']}, {'name': 'Token B', 'symbol': 'TKB', 'blockchain': 'Binance Smart Chain', 'current_price_usd': 200.0, 'transaction_history': [{'date': '2024-01-10', 'prices': {'open': 198.0, 'close': 200.0, 'high': 202.0, 'low': 196.0}, 'volume': 18000}, {'date': '2024-01-09', 'prices': {'open': 196.0, 'close': 198.0, 'high': 199.0, 'low': 195.0}, 'volume': 17000}], 'supported_chains': ['Binance Smart Chain', 'Avalanche']}, {'name': 'Token C', 'symbol': 'TKC', 'blockchain': 'Solana', 'current_price_usd': 300.0, 'transaction_history': [{'date': '2024-01-10', 'prices': {'open': 295.0, 'close': 300.0, 'high': 302.0, 'low': 294.0}, 'volume': 22000}, {'date': '2024-01-09', 'prices': {'open': 294.0, 'close': 295.0, 'high': 296.0, 'low': 293.0}, 'volume': 21000}], 'supported_chains': ['Solana', 'Fantom']}]\n"
     ]
    }
   ],
   "source": [
    "crypto_tokens = [\n",
    "    {\"name\": \"Token A\", \"symbol\": \"TKA\", \"blockchain\": \"Ethereum\", \"current_price_usd\": 100.0,\n",
    "     \"transaction_history\": [\n",
    "         {\"date\": \"2024-01-10\", \"prices\": {\"open\": 98.0, \"close\": 100.0, \"high\": 101.0, \"low\": 97.0}, \"volume\": 12000},\n",
    "         {\"date\": \"2024-01-09\", \"prices\": {\"open\": 97.0, \"close\": 98.0, \"high\": 99.0, \"low\": 96.0}, \"volume\": 15000}\n",
    "     ],\n",
    "     \"supported_chains\": [\"Ethereum\", \"Polygon\"]\n",
    "    },\n",
    "    {\"name\": \"Token B\", \"symbol\": \"TKB\", \"blockchain\": \"Binance Smart Chain\", \"current_price_usd\": 200.0,\n",
    "     \"transaction_history\": [\n",
    "         {\"date\": \"2024-01-10\", \"prices\": {\"open\": 198.0, \"close\": 200.0, \"high\": 202.0, \"low\": 196.0}, \"volume\": 18000},\n",
    "         {\"date\": \"2024-01-09\", \"prices\": {\"open\": 196.0, \"close\": 198.0, \"high\": 199.0, \"low\": 195.0}, \"volume\": 17000}\n",
    "     ],\n",
    "     \"supported_chains\": [\"Binance Smart Chain\", \"Avalanche\"]\n",
    "    },\n",
    "    {\"name\": \"Token C\", \"symbol\": \"TKC\", \"blockchain\": \"Solana\", \"current_price_usd\": 300.0,\n",
    "     \"transaction_history\": [\n",
    "         {\"date\": \"2024-01-10\", \"prices\": {\"open\": 295.0, \"close\": 300.0, \"high\": 302.0, \"low\": 294.0}, \"volume\": 22000},\n",
    "         {\"date\": \"2024-01-09\", \"prices\": {\"open\": 294.0, \"close\": 295.0, \"high\": 296.0, \"low\": 293.0}, \"volume\": 21000}\n",
    "     ],\n",
    "     \"supported_chains\": [\"Solana\", \"Fantom\"]\n",
    "    }\n",
    "]\n",
    "\n",
    "print(crypto_tokens)"
   ]
  },
  {
   "cell_type": "markdown",
   "id": "28cc447a",
   "metadata": {},
   "source": [
    "#### Display the current price of \"Token B\""
   ]
  },
  {
   "cell_type": "code",
   "execution_count": 11,
   "id": "c47e5e97",
   "metadata": {},
   "outputs": [
    {
     "name": "stdout",
     "output_type": "stream",
     "text": [
      "current price of Token B $200.0\n"
     ]
    }
   ],
   "source": [
    "print(f'current price of Token B ${crypto_tokens[1]['current_price_usd']}')"
   ]
  },
  {
   "cell_type": "markdown",
   "id": "fd09811a",
   "metadata": {},
   "source": [
    " ##### Add a new token \"Token D\" with some initial data to the `crypto_tokens` list.\n"
   ]
  },
  {
   "cell_type": "code",
   "execution_count": 14,
   "id": "081a8ce0",
   "metadata": {},
   "outputs": [
    {
     "name": "stdout",
     "output_type": "stream",
     "text": [
      "[{'name': 'Token A', 'symbol': 'TKA', 'blockchain': 'Ethereum', 'current_price_usd': 100.0, 'transaction_history': [{'date': '2024-01-10', 'prices': {'open': 98.0, 'close': 100.0, 'high': 101.0, 'low': 97.0}, 'volume': 12000}, {'date': '2024-01-09', 'prices': {'open': 97.0, 'close': 98.0, 'high': 99.0, 'low': 96.0}, 'volume': 15000}], 'supported_chains': ['Ethereum', 'Polygon']}, {'name': 'Token B', 'symbol': 'TKB', 'blockchain': 'Binance Smart Chain', 'current_price_usd': 200.0, 'transaction_history': [{'date': '2024-01-10', 'prices': {'open': 198.0, 'close': 200.0, 'high': 202.0, 'low': 196.0}, 'volume': 18000}, {'date': '2024-01-09', 'prices': {'open': 196.0, 'close': 198.0, 'high': 199.0, 'low': 195.0}, 'volume': 17000}], 'supported_chains': ['Binance Smart Chain', 'Avalanche']}, {'name': 'Token C', 'symbol': 'TKC', 'blockchain': 'Solana', 'current_price_usd': 300.0, 'transaction_history': [{'date': '2024-01-10', 'prices': {'open': 295.0, 'close': 300.0, 'high': 302.0, 'low': 294.0}, 'volume': 22000}, {'date': '2024-01-09', 'prices': {'open': 294.0, 'close': 295.0, 'high': 296.0, 'low': 293.0}, 'volume': 21000}], 'supported_chains': ['Solana', 'Fantom']}, {'name': 'Token D', 'symbol': 'SFP', 'blockchain': 'Binance', 'current_price_usd': 0.76, 'transaction_history': [{'date': '2024-01-10', 'prices': {'open': 0.73, 'close': 0.8, 'high': 0.95, 'low': 0.54}, 'volume': 23000}, {'date': '2024-01-09', 'prices': {'open': 0.8, 'close': 0.73, 'high': 0.096, 'low': 0.5}, 'volume': 21000}], 'supported_chains': ['Binance', 'Ethereum']}, {'name': 'Token D', 'symbol': 'SFP', 'blockchain': 'Binance', 'current_price_usd': 0.76, 'transaction_history': [{'date': '2024-01-10', 'prices': {'open': 0.73, 'close': 0.8, 'high': 0.95, 'low': 0.54}, 'volume': 23000}, {'date': '2024-01-09', 'prices': {'open': 0.8, 'close': 0.73, 'high': 0.096, 'low': 0.5}, 'volume': 21000}], 'supported_chains': ['Binance', 'Ethereum']}]\n"
     ]
    }
   ],
   "source": [
    "crypto_tokens.append({\"name\": \"Token D\", \"symbol\": \"SFP\", \"blockchain\": \"Binance\", \"current_price_usd\": 0.76,\n",
    "     \"transaction_history\": [\n",
    "         {\"date\": \"2024-01-10\", \"prices\": {\"open\": 0.73, \"close\": 0.80, \"high\": 0.95, \"low\": 0.54}, \"volume\": 23000},\n",
    "         {\"date\": \"2024-01-09\", \"prices\": {\"open\": 0.80, \"close\": 0.73, \"high\": .096, \"low\": 0.50}, \"volume\": 21000}\n",
    "     ],\n",
    "     \"supported_chains\": [\"Binance\", \"Ethereum\"]\n",
    "    })\n",
    "\n",
    "print(crypto_tokens)"
   ]
  },
  {
   "cell_type": "code",
   "execution_count": 22,
   "id": "e7832fa6",
   "metadata": {},
   "outputs": [],
   "source": [
    "# Correct the high price on 2024-01-09 for Token D\n",
    "crypto_tokens[3][\"transaction_history\"][1][\"prices\"][\"high\"] = 0.96\n",
    "\n"
   ]
  },
  {
   "cell_type": "markdown",
   "id": "3c38f300",
   "metadata": {},
   "source": [
    "##### Update the current price of \"Token C\" to 310.0."
   ]
  },
  {
   "cell_type": "code",
   "execution_count": 18,
   "id": "5189285c",
   "metadata": {},
   "outputs": [
    {
     "name": "stdout",
     "output_type": "stream",
     "text": [
      "[{'name': 'Token A', 'symbol': 'TKA', 'blockchain': 'Ethereum', 'current_price_usd': 100.0, 'transaction_history': [{'date': '2024-01-10', 'prices': {'open': 98.0, 'close': 100.0, 'high': 101.0, 'low': 97.0}, 'volume': 12000}, {'date': '2024-01-09', 'prices': {'open': 97.0, 'close': 98.0, 'high': 99.0, 'low': 96.0}, 'volume': 15000}], 'supported_chains': ['Ethereum', 'Polygon']}, {'name': 'Token B', 'symbol': 'TKB', 'blockchain': 'Binance Smart Chain', 'current_price_usd': 200.0, 'transaction_history': [{'date': '2024-01-10', 'prices': {'open': 198.0, 'close': 200.0, 'high': 202.0, 'low': 196.0}, 'volume': 18000}, {'date': '2024-01-09', 'prices': {'open': 196.0, 'close': 198.0, 'high': 199.0, 'low': 195.0}, 'volume': 17000}], 'supported_chains': ['Binance Smart Chain', 'Avalanche']}, {'name': 'Token C', 'symbol': 'TKC', 'blockchain': 'Solana', 'current_price_usd': 310.0, 'transaction_history': [{'date': '2024-01-10', 'prices': {'open': 295.0, 'close': 300.0, 'high': 302.0, 'low': 294.0}, 'volume': 22000}, {'date': '2024-01-09', 'prices': {'open': 294.0, 'close': 295.0, 'high': 296.0, 'low': 293.0}, 'volume': 21000}], 'supported_chains': ['Solana', 'Fantom']}, {'name': 'Token D', 'symbol': 'SFP', 'blockchain': 'Binance', 'current_price_usd': 0.76, 'transaction_history': [{'date': '2024-01-10', 'prices': {'open': 0.73, 'close': 0.8, 'high': 0.95, 'low': 0.54}, 'volume': 23000}, {'date': '2024-01-09', 'prices': {'open': 0.8, 'close': 0.73, 'high': 0.096, 'low': 0.5}, 'volume': 21000}], 'supported_chains': ['Binance', 'Ethereum']}, {'name': 'Token D', 'symbol': 'SFP', 'blockchain': 'Binance', 'current_price_usd': 0.76, 'transaction_history': [{'date': '2024-01-10', 'prices': {'open': 0.73, 'close': 0.8, 'high': 0.95, 'low': 0.54}, 'volume': 23000}, {'date': '2024-01-09', 'prices': {'open': 0.8, 'close': 0.73, 'high': 0.096, 'low': 0.5}, 'volume': 21000}], 'supported_chains': ['Binance', 'Ethereum']}]\n"
     ]
    }
   ],
   "source": [
    "crypto_tokens[2]['current_price_usd'] = 310.0\n",
    "print(crypto_tokens)"
   ]
  },
  {
   "cell_type": "code",
   "execution_count": 23,
   "id": "95707731",
   "metadata": {},
   "outputs": [
    {
     "name": "stdout",
     "output_type": "stream",
     "text": [
      "[{'name': 'Token A', 'symbol': 'TKA', 'blockchain': 'Ethereum', 'current_price_usd': 100.0, 'transaction_history': [{'date': '2024-01-10', 'prices': {'open': 98.0, 'close': 100.0, 'high': 101.0, 'low': 97.0}, 'volume': 12000}, {'date': '2024-01-09', 'prices': {'open': 97.0, 'close': 98.0, 'high': 99.0, 'low': 96.0}, 'volume': 15000}], 'supported_chains': ['Ethereum', 'Polygon']}, {'name': 'Token B', 'symbol': 'TKB', 'blockchain': 'Binance Smart Chain', 'current_price_usd': 200.0, 'transaction_history': [{'date': '2024-01-10', 'prices': {'open': 198.0, 'close': 200.0, 'high': 202.0, 'low': 196.0}, 'volume': 18000}, {'date': '2024-01-09', 'prices': {'open': 196.0, 'close': 198.0, 'high': 199.0, 'low': 195.0}, 'volume': 17000}], 'supported_chains': ['Binance Smart Chain', 'Avalanche']}, {'name': 'Token C', 'symbol': 'TKC', 'blockchain': 'Solana', 'current_price_usd': 310.0, 'transaction_history': [{'date': '2024-01-10', 'prices': {'open': 295.0, 'close': 300.0, 'high': 302.0, 'low': 294.0}, 'volume': 22000}, {'date': '2024-01-09', 'prices': {'open': 294.0, 'close': 295.0, 'high': 296.0, 'low': 293.0}, 'volume': 21000}], 'supported_chains': ['Solana', 'Fantom']}, {'name': 'Token D', 'symbol': 'SFP', 'blockchain': 'Binance', 'current_price_usd': 0.76, 'transaction_history': [{'date': '2024-01-10', 'prices': {'open': 0.73, 'close': 0.8, 'high': 0.95, 'low': 0.54}, 'volume': 23000}, {'date': '2024-01-09', 'prices': {'open': 0.8, 'close': 0.73, 'high': 0.96, 'low': 0.5}, 'volume': 21000}], 'supported_chains': ['Binance', 'Ethereum']}, {'name': 'Token D', 'symbol': 'SFP', 'blockchain': 'Binance', 'current_price_usd': 0.76, 'transaction_history': [{'date': '2024-01-10', 'prices': {'open': 0.73, 'close': 0.8, 'high': 0.95, 'low': 0.54}, 'volume': 23000}, {'date': '2024-01-09', 'prices': {'open': 0.8, 'close': 0.73, 'high': 0.096, 'low': 0.5}, 'volume': 21000}], 'supported_chains': ['Binance', 'Ethereum']}]\n"
     ]
    }
   ],
   "source": [
    "print(crypto_tokens)"
   ]
  },
  {
   "cell_type": "markdown",
   "id": "3ee55942",
   "metadata": {},
   "source": [
    "#####  Remove the transaction history for \"Token A\" on \"2024-01-09\""
   ]
  },
  {
   "cell_type": "code",
   "execution_count": 27,
   "id": "f118fc55",
   "metadata": {},
   "outputs": [
    {
     "data": {
      "text/plain": [
       "{'date': '2024-01-09',\n",
       " 'prices': {'open': 97.0, 'close': 98.0, 'high': 99.0, 'low': 96.0},\n",
       " 'volume': 15000}"
      ]
     },
     "execution_count": 27,
     "metadata": {},
     "output_type": "execute_result"
    }
   ],
   "source": [
    "crypto_tokens[0]['transaction_history'].pop(1)"
   ]
  },
  {
   "cell_type": "code",
   "execution_count": 28,
   "id": "9be81685",
   "metadata": {},
   "outputs": [
    {
     "name": "stdout",
     "output_type": "stream",
     "text": [
      "[{'name': 'Token A', 'symbol': 'TKA', 'blockchain': 'Ethereum', 'current_price_usd': 100.0, 'transaction_history': [{'date': '2024-01-10', 'prices': {'open': 98.0, 'close': 100.0, 'high': 101.0, 'low': 97.0}, 'volume': 12000}], 'supported_chains': ['Ethereum', 'Polygon']}, {'name': 'Token B', 'symbol': 'TKB', 'blockchain': 'Binance Smart Chain', 'current_price_usd': 200.0, 'transaction_history': [{'date': '2024-01-10', 'prices': {'open': 198.0, 'close': 200.0, 'high': 202.0, 'low': 196.0}, 'volume': 18000}, {'date': '2024-01-09', 'prices': {'open': 196.0, 'close': 198.0, 'high': 199.0, 'low': 195.0}, 'volume': 17000}], 'supported_chains': ['Binance Smart Chain', 'Avalanche']}, {'name': 'Token C', 'symbol': 'TKC', 'blockchain': 'Solana', 'current_price_usd': 310.0, 'transaction_history': [{'date': '2024-01-10', 'prices': {'open': 295.0, 'close': 300.0, 'high': 302.0, 'low': 294.0}, 'volume': 22000}, {'date': '2024-01-09', 'prices': {'open': 294.0, 'close': 295.0, 'high': 296.0, 'low': 293.0}, 'volume': 21000}], 'supported_chains': ['Solana', 'Fantom']}, {'name': 'Token D', 'symbol': 'SFP', 'blockchain': 'Binance', 'current_price_usd': 0.76, 'transaction_history': [{'date': '2024-01-10', 'prices': {'open': 0.73, 'close': 0.8, 'high': 0.95, 'low': 0.54}, 'volume': 23000}, {'date': '2024-01-09', 'prices': {'open': 0.8, 'close': 0.73, 'high': 0.96, 'low': 0.5}, 'volume': 21000}], 'supported_chains': ['Binance', 'Ethereum']}, {'name': 'Token D', 'symbol': 'SFP', 'blockchain': 'Binance', 'current_price_usd': 0.76, 'transaction_history': [{'date': '2024-01-10', 'prices': {'open': 0.73, 'close': 0.8, 'high': 0.95, 'low': 0.54}, 'volume': 23000}, {'date': '2024-01-09', 'prices': {'open': 0.8, 'close': 0.73, 'high': 0.096, 'low': 0.5}, 'volume': 21000}], 'supported_chains': ['Binance', 'Ethereum']}]\n"
     ]
    }
   ],
   "source": [
    "print(crypto_tokens)"
   ]
  },
  {
   "cell_type": "code",
   "execution_count": 29,
   "id": "639c6eaf",
   "metadata": {},
   "outputs": [],
   "source": [
    "del crypto_tokens[4]"
   ]
  },
  {
   "cell_type": "code",
   "execution_count": 30,
   "id": "272a1991",
   "metadata": {},
   "outputs": [
    {
     "name": "stdout",
     "output_type": "stream",
     "text": [
      "[{'name': 'Token A', 'symbol': 'TKA', 'blockchain': 'Ethereum', 'current_price_usd': 100.0, 'transaction_history': [{'date': '2024-01-10', 'prices': {'open': 98.0, 'close': 100.0, 'high': 101.0, 'low': 97.0}, 'volume': 12000}], 'supported_chains': ['Ethereum', 'Polygon']}, {'name': 'Token B', 'symbol': 'TKB', 'blockchain': 'Binance Smart Chain', 'current_price_usd': 200.0, 'transaction_history': [{'date': '2024-01-10', 'prices': {'open': 198.0, 'close': 200.0, 'high': 202.0, 'low': 196.0}, 'volume': 18000}, {'date': '2024-01-09', 'prices': {'open': 196.0, 'close': 198.0, 'high': 199.0, 'low': 195.0}, 'volume': 17000}], 'supported_chains': ['Binance Smart Chain', 'Avalanche']}, {'name': 'Token C', 'symbol': 'TKC', 'blockchain': 'Solana', 'current_price_usd': 310.0, 'transaction_history': [{'date': '2024-01-10', 'prices': {'open': 295.0, 'close': 300.0, 'high': 302.0, 'low': 294.0}, 'volume': 22000}, {'date': '2024-01-09', 'prices': {'open': 294.0, 'close': 295.0, 'high': 296.0, 'low': 293.0}, 'volume': 21000}], 'supported_chains': ['Solana', 'Fantom']}, {'name': 'Token D', 'symbol': 'SFP', 'blockchain': 'Binance', 'current_price_usd': 0.76, 'transaction_history': [{'date': '2024-01-10', 'prices': {'open': 0.73, 'close': 0.8, 'high': 0.95, 'low': 0.54}, 'volume': 23000}, {'date': '2024-01-09', 'prices': {'open': 0.8, 'close': 0.73, 'high': 0.96, 'low': 0.5}, 'volume': 21000}], 'supported_chains': ['Binance', 'Ethereum']}]\n"
     ]
    }
   ],
   "source": [
    "print(crypto_tokens)"
   ]
  },
  {
   "cell_type": "markdown",
   "id": "7d7bb08b",
   "metadata": {},
   "source": [
    "##### Display the closing price of \"Token B\" on \"2024-01-10\""
   ]
  },
  {
   "cell_type": "code",
   "execution_count": 32,
   "id": "636beb22",
   "metadata": {},
   "outputs": [
    {
     "name": "stdout",
     "output_type": "stream",
     "text": [
      "200.0\n"
     ]
    }
   ],
   "source": [
    "print(crypto_tokens[1]['transaction_history'][0]['prices']['close'])"
   ]
  },
  {
   "cell_type": "markdown",
   "id": "7c51aeca",
   "metadata": {},
   "source": [
    "##### Change the opening price of \"Token A\" on \"2024-01-10\" to 99.0.\n"
   ]
  },
  {
   "cell_type": "code",
   "execution_count": 37,
   "id": "ee0e5f0b",
   "metadata": {},
   "outputs": [],
   "source": [
    "crypto_tokens[0]['transaction_history'][0]['prices']['open'] = 99.0"
   ]
  },
  {
   "cell_type": "code",
   "execution_count": 38,
   "id": "3114eb15",
   "metadata": {},
   "outputs": [
    {
     "name": "stdout",
     "output_type": "stream",
     "text": [
      "[{'name': 'Token A', 'symbol': 'TKA', 'blockchain': 'Ethereum', 'current_price_usd': 100.0, 'transaction_history': [{'date': '2024-01-10', 'prices': {'open': 99.0, 'close': 100.0, 'high': 101.0, 'low': 97.0, <function open at 0x00000153AE294C20>: 99.0}, 'volume': 12000}], 'supported_chains': ['Ethereum', 'Polygon']}, {'name': 'Token B', 'symbol': 'TKB', 'blockchain': 'Binance Smart Chain', 'current_price_usd': 200.0, 'transaction_history': [{'date': '2024-01-10', 'prices': {'open': 198.0, 'close': 200.0, 'high': 202.0, 'low': 196.0}, 'volume': 18000}, {'date': '2024-01-09', 'prices': {'open': 196.0, 'close': 198.0, 'high': 199.0, 'low': 195.0}, 'volume': 17000}], 'supported_chains': ['Binance Smart Chain', 'Avalanche']}, {'name': 'Token C', 'symbol': 'TKC', 'blockchain': 'Solana', 'current_price_usd': 310.0, 'transaction_history': [{'date': '2024-01-10', 'prices': {'open': 295.0, 'close': 300.0, 'high': 302.0, 'low': 294.0}, 'volume': 22000}, {'date': '2024-01-09', 'prices': {'open': 294.0, 'close': 295.0, 'high': 296.0, 'low': 293.0}, 'volume': 21000}], 'supported_chains': ['Solana', 'Fantom']}, {'name': 'Token D', 'symbol': 'SFP', 'blockchain': 'Binance', 'current_price_usd': 0.76, 'transaction_history': [{'date': '2024-01-10', 'prices': {'open': 0.73, 'close': 0.8, 'high': 0.95, 'low': 0.54}, 'volume': 23000}, {'date': '2024-01-09', 'prices': {'open': 0.8, 'close': 0.73, 'high': 0.96, 'low': 0.5}, 'volume': 21000}], 'supported_chains': ['Binance', 'Ethereum']}]\n"
     ]
    }
   ],
   "source": [
    "print(crypto_tokens)"
   ]
  },
  {
   "cell_type": "markdown",
   "id": "0642df0e",
   "metadata": {},
   "source": [
    "##### Add a new transaction history entry for \"Token C\" on \"2024-01-11\""
   ]
  },
  {
   "cell_type": "code",
   "execution_count": 40,
   "id": "b65425f6",
   "metadata": {},
   "outputs": [],
   "source": [
    "crypto_tokens[2][\"transaction_history\"].append({\n",
    "    \"date\": \"2024-01-11\",\n",
    "    \"prices\": {\n",
    "        \"open\": 310.0,\n",
    "        \"close\": 312.0,\n",
    "        \"high\": 315.0,\n",
    "        \"low\": 308.0\n",
    "    },\n",
    "    \"volume\": 25000\n",
    "})\n"
   ]
  },
  {
   "cell_type": "code",
   "execution_count": 41,
   "id": "be2ee346",
   "metadata": {},
   "outputs": [
    {
     "name": "stdout",
     "output_type": "stream",
     "text": [
      "[{'name': 'Token A', 'symbol': 'TKA', 'blockchain': 'Ethereum', 'current_price_usd': 100.0, 'transaction_history': [{'date': '2024-01-10', 'prices': {'open': 99.0, 'close': 100.0, 'high': 101.0, 'low': 97.0, <function open at 0x00000153AE294C20>: 99.0}, 'volume': 12000}], 'supported_chains': ['Ethereum', 'Polygon']}, {'name': 'Token B', 'symbol': 'TKB', 'blockchain': 'Binance Smart Chain', 'current_price_usd': 200.0, 'transaction_history': [{'date': '2024-01-10', 'prices': {'open': 198.0, 'close': 200.0, 'high': 202.0, 'low': 196.0}, 'volume': 18000}, {'date': '2024-01-09', 'prices': {'open': 196.0, 'close': 198.0, 'high': 199.0, 'low': 195.0}, 'volume': 17000}], 'supported_chains': ['Binance Smart Chain', 'Avalanche']}, {'name': 'Token C', 'symbol': 'TKC', 'blockchain': 'Solana', 'current_price_usd': 310.0, 'transaction_history': [{'date': '2024-01-10', 'prices': {'open': 295.0, 'close': 300.0, 'high': 302.0, 'low': 294.0}, 'volume': 22000}, {'date': '2024-01-09', 'prices': {'open': 294.0, 'close': 295.0, 'high': 296.0, 'low': 293.0}, 'volume': 21000}, {'date': '2024-01-11', 'prices': {'open': 310.0, 'close': 312.0, 'high': 315.0, 'low': 308.0}, 'volume': 25000}], 'supported_chains': ['Solana', 'Fantom']}, {'name': 'Token D', 'symbol': 'SFP', 'blockchain': 'Binance', 'current_price_usd': 0.76, 'transaction_history': [{'date': '2024-01-10', 'prices': {'open': 0.73, 'close': 0.8, 'high': 0.95, 'low': 0.54}, 'volume': 23000}, {'date': '2024-01-09', 'prices': {'open': 0.8, 'close': 0.73, 'high': 0.96, 'low': 0.5}, 'volume': 21000}], 'supported_chains': ['Binance', 'Ethereum']}]\n"
     ]
    }
   ],
   "source": [
    "print(crypto_tokens)"
   ]
  },
  {
   "cell_type": "markdown",
   "id": "5392d13e",
   "metadata": {},
   "source": [
    "##### Remove \"Avalanche\" from the supported chains of \"Token B\"."
   ]
  },
  {
   "cell_type": "code",
   "execution_count": null,
   "id": "b379cd3f",
   "metadata": {},
   "outputs": [],
   "source": [
    "crypto_tokens[1]['supported_chains'].remove(\"Avalanche\")"
   ]
  },
  {
   "cell_type": "code",
   "execution_count": 49,
   "id": "92074986",
   "metadata": {},
   "outputs": [
    {
     "name": "stdout",
     "output_type": "stream",
     "text": [
      "['Binance Smart Chain']\n"
     ]
    }
   ],
   "source": [
    "print(crypto_tokens[1]['supported_chains'])"
   ]
  }
 ],
 "metadata": {
  "kernelspec": {
   "display_name": "Python 3",
   "language": "python",
   "name": "python3"
  },
  "language_info": {
   "codemirror_mode": {
    "name": "ipython",
    "version": 3
   },
   "file_extension": ".py",
   "mimetype": "text/x-python",
   "name": "python",
   "nbconvert_exporter": "python",
   "pygments_lexer": "ipython3",
   "version": "3.13.1"
  }
 },
 "nbformat": 4,
 "nbformat_minor": 5
}
